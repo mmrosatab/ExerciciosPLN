{
 "cells": [
  {
   "cell_type": "markdown",
   "metadata": {},
   "source": [
    "# Exercícios - Distância de Edição¶\n",
    "\n",
    "Implemente um script em python que calcula a distância de edição de Levenshtein e também mostre, além do custo, a sequência de operaćões de edićão.\n",
    "\n",
    "O programa deve receber via entrada padrão duas cadeias de caracteres e deve retornar a distância de edição.\n"
   ]
  },
  {
   "cell_type": "code",
   "execution_count": 11,
   "metadata": {
    "collapsed": true
   },
   "outputs": [],
   "source": [
    "def Levensthein(x , y):\n",
    "    \n",
    "    #concatena cerquilha as duas strings\n",
    "    cadeiax = \"#\" + x \n",
    "    cadeiay = \"#\" + y\n",
    "    \n",
    "    m = len(cadeiax)\n",
    "    n = len(cadeiay)\n",
    "    \n",
    "    #criando matriz de tamanho m linhas e n colunas\n",
    "    matrix = [[[] for j in range(n)] for i in range(m)]\n",
    "    \n",
    "    #atribuindo de 0 a n na primeira linha da matriz\n",
    "    matrix[0] = [j for j in range(n)]\n",
    "    \n",
    "    #atribuindo de 1 a n na primeira coluna da matriz\n",
    "    for i in range(1,m):\n",
    "        matrix[i][0] = i \n",
    "    \n",
    "    for i in range(1,m):\n",
    "        for j in range(1,n):\n",
    "\n",
    "            if cadeiax[i] == cadeiay[j]:\n",
    "                matrix[i][j] = matrix[i-1][j-1]\n",
    "            else:\n",
    "                matrix[i][j] = min(matrix[i-1][j-1] + 2,matrix[i-1][j] + 1,matrix[i][j-1] + 1)\n",
    "    \n",
    "    return matrix[m-1][n-1]"
   ]
  },
  {
   "cell_type": "code",
   "execution_count": 12,
   "metadata": {},
   "outputs": [
    {
     "name": "stdout",
     "output_type": "stream",
     "text": [
      "A distancia de edicao eh:  8\n"
     ]
    }
   ],
   "source": [
    "print (\"A distancia de edicao eh: \", Levensthein(\"intention\",\"execution\"))"
   ]
  },
  {
   "cell_type": "code",
   "execution_count": 13,
   "metadata": {},
   "outputs": [
    {
     "name": "stdout",
     "output_type": "stream",
     "text": [
      "A distancia de edicao eh:  2\n"
     ]
    }
   ],
   "source": [
    "print (\"A distancia de edicao eh: \", Levensthein(\"casa\",\"cama\"))"
   ]
  },
  {
   "cell_type": "code",
   "execution_count": 14,
   "metadata": {},
   "outputs": [
    {
     "name": "stdout",
     "output_type": "stream",
     "text": [
      "A distancia de edicao eh:  1\n"
     ]
    }
   ],
   "source": [
    "print (\"A distancia de edicao eh: \", Levensthein(\"ab\",\"a\"))"
   ]
  },
  {
   "cell_type": "code",
   "execution_count": 15,
   "metadata": {},
   "outputs": [
    {
     "name": "stdout",
     "output_type": "stream",
     "text": [
      "A distancia de edicao eh:  0\n"
     ]
    }
   ],
   "source": [
    "print (\"A distancia de edicao eh: \", Levensthein(\"a\",\"a\"))"
   ]
  },
  {
   "cell_type": "code",
   "execution_count": null,
   "metadata": {
    "collapsed": true
   },
   "outputs": [],
   "source": []
  }
 ],
 "metadata": {
  "kernelspec": {
   "display_name": "Python 3",
   "language": "python",
   "name": "python3"
  },
  "language_info": {
   "codemirror_mode": {
    "name": "ipython",
    "version": 3
   },
   "file_extension": ".py",
   "mimetype": "text/x-python",
   "name": "python",
   "nbconvert_exporter": "python",
   "pygments_lexer": "ipython3",
   "version": "3.6.1"
  }
 },
 "nbformat": 4,
 "nbformat_minor": 2
}
