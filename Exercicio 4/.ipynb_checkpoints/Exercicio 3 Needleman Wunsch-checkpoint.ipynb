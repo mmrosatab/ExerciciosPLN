{
 "cells": [
  {
   "cell_type": "markdown",
   "metadata": {},
   "source": [
    "Implemente em python o algoritmo Needleman Wunsch para alinhamento de cadeias. \n",
    "Faça em jupyter e coloque exemplos de cadeias como experimentos e seus resultados."
   ]
  },
  {
   "cell_type": "code",
   "execution_count": 9,
   "metadata": {
    "collapsed": true
   },
   "outputs": [],
   "source": [
    "import numpy as np\n",
    "\n",
    "def Wunsch(x , y):\n",
    "    \n",
    "    #concatena cerquilha as duas strings\n",
    "    cadeiax = \"#\" + x \n",
    "    cadeiay = \"#\" + y\n",
    "    \n",
    "    m = len(cadeiax)\n",
    "    n = len(cadeiay)\n",
    "    \n",
    "    #criando matriz de tamanho m linhas e n colunas\n",
    "    matrix = [[[] for j in range(n)] for i in range(m)]\n",
    "       \n",
    "    #inicializando linha \n",
    "    matrix[0] = [-j for j in range(n)]\n",
    "\n",
    "    for i in range(1,m):\n",
    "        matrix[i][0] = -i\n",
    "    \n",
    "    s = 0\n",
    "    \n",
    "    for i in range(1,m):\n",
    "        for j in range(1,n):\n",
    "            if cadeiax[i] == cadeiay[j]:\n",
    "                s = 1\n",
    "            else:\n",
    "                s = -1\n",
    "            \n",
    "            matrix[i][j] = max(matrix[i-1][j-1]+s,matrix[i][j-1]-1,matrix[i-1][j]-1)\n",
    "    print(np.asmatrix(matrix))\n",
    "    \n",
    "    return matrix[m-1][n-1]\n",
    "    "
   ]
  },
  {
   "cell_type": "code",
   "execution_count": 10,
   "metadata": {
    "collapsed": false
   },
   "outputs": [
    {
     "name": "stdout",
     "output_type": "stream",
     "text": [
      "[[ 0 -1 -2 -3 -4 -5 -6]\n",
      " [-1  1  0 -1 -2 -3 -4]\n",
      " [-2  0  2  1  0 -1 -2]\n",
      " [-3 -1  1  1  0 -1  0]\n",
      " [-4 -2  0  0  2  1  0]\n",
      " [-5 -3 -1  1  1  3  2]]\n"
     ]
    },
    {
     "data": {
      "text/plain": [
       "2"
      ]
     },
     "execution_count": 10,
     "metadata": {},
     "output_type": "execute_result"
    }
   ],
   "source": [
    "Wunsch(\"atcat\",\"attatc\")"
   ]
  },
  {
   "cell_type": "code",
   "execution_count": null,
   "metadata": {
    "collapsed": true
   },
   "outputs": [],
   "source": []
  }
 ],
 "metadata": {
  "anaconda-cloud": {},
  "kernelspec": {
   "display_name": "Python [Root]",
   "language": "python",
   "name": "Python [Root]"
  },
  "language_info": {
   "codemirror_mode": {
    "name": "ipython",
    "version": 3
   },
   "file_extension": ".py",
   "mimetype": "text/x-python",
   "name": "python",
   "nbconvert_exporter": "python",
   "pygments_lexer": "ipython3",
   "version": "3.5.2"
  }
 },
 "nbformat": 4,
 "nbformat_minor": 2
}
