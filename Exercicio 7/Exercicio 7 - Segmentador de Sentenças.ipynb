{
 "cells": [
  {
   "cell_type": "code",
   "execution_count": 77,
   "metadata": {
    "collapsed": false
   },
   "outputs": [],
   "source": [
    "import nltk.data\n",
    "\n",
    "#descomente a linha abaixo caso não tenha o punkt baixado\n",
    "#nltk.download('punkt') "
   ]
  },
  {
   "cell_type": "code",
   "execution_count": 78,
   "metadata": {
    "collapsed": false
   },
   "outputs": [],
   "source": [
    "# Abrindo o arquivo para leitura\n",
    "arq1 = open(\"entrada.txt\", \"r\")\n",
    "# Lendo o arquivo\n",
    "texto = arq1.read()"
   ]
  },
  {
   "cell_type": "code",
   "execution_count": 79,
   "metadata": {
    "collapsed": false
   },
   "outputs": [
    {
     "name": "stdout",
     "output_type": "stream",
     "text": [
      "Você meu amigo de fé, meu irmão camarada. Sorriso e abraço festivo da minha chegada. Você que me diz as verdades com frases abertas. Amigo você é o mais certo das horas incertas.\n"
     ]
    }
   ],
   "source": [
    "#imprimindo conteudo do arquivo\n",
    "print(texto)"
   ]
  },
  {
   "cell_type": "code",
   "execution_count": 80,
   "metadata": {
    "collapsed": false
   },
   "outputs": [],
   "source": [
    "tokenizador = nltk.data.load('tokenizers/punkt/portuguese.pickle')\n"
   ]
  },
  {
   "cell_type": "code",
   "execution_count": 81,
   "metadata": {
    "collapsed": false
   },
   "outputs": [],
   "source": [
    "linhas = tokenizador.tokenize(texto)\n"
   ]
  },
  {
   "cell_type": "code",
   "execution_count": 82,
   "metadata": {
    "collapsed": false
   },
   "outputs": [
    {
     "data": {
      "text/plain": [
       "['Você meu amigo de fé, meu irmão camarada.',\n",
       " 'Sorriso e abraço festivo da minha chegada.',\n",
       " 'Você que me diz as verdades com frases abertas.',\n",
       " 'Amigo você é o mais certo das horas incertas.']"
      ]
     },
     "execution_count": 82,
     "metadata": {},
     "output_type": "execute_result"
    }
   ],
   "source": [
    "linhas"
   ]
  },
  {
   "cell_type": "code",
   "execution_count": 83,
   "metadata": {
    "collapsed": false
   },
   "outputs": [],
   "source": [
    "\n",
    "arquivo = open('saida.txt', 'w')\n",
    "for i in linhas:  \n",
    "    arquivo.writelines(i)\n",
    "    arquivo.writelines('\\n')\n",
    "arquivo.close()"
   ]
  },
  {
   "cell_type": "code",
   "execution_count": null,
   "metadata": {
    "collapsed": true
   },
   "outputs": [],
   "source": []
  }
 ],
 "metadata": {
  "kernelspec": {
   "display_name": "Python 3",
   "language": "python",
   "name": "python3"
  },
  "language_info": {
   "codemirror_mode": {
    "name": "ipython",
    "version": 3
   },
   "file_extension": ".py",
   "mimetype": "text/x-python",
   "name": "python",
   "nbconvert_exporter": "python",
   "pygments_lexer": "ipython3",
   "version": "3.6.0"
  }
 },
 "nbformat": 4,
 "nbformat_minor": 2
}
