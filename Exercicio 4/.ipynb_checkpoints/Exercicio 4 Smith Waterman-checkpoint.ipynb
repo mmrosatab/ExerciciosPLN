{
 "cells": [
  {
   "cell_type": "raw",
   "metadata": {},
   "source": [
    "Faça um script em Jupyter com o algoritmo de Smith Waterman para alinhamento local máximo. Coloque vários exemplos de cadeias, com as respostas retornadas por seu algoritmo."
   ]
  },
  {
   "cell_type": "code",
   "execution_count": 10,
   "metadata": {
    "collapsed": false
   },
   "outputs": [],
   "source": [
    "def Waterman(x , y):\n",
    "    #https://pt.slideshare.net/mcastrosouza/algoritmo-de-smithwaterman-47681112\n",
    "    #concatena cerquilha as duas strings\n",
    "    cadeiax = \"#\" + x \n",
    "    cadeiay = \"#\" + y\n",
    "    \n",
    "    m = len(cadeiax)\n",
    "    n = len(cadeiay)\n",
    "    \n",
    "    #criando matriz de tamanho m linhas e n colunas\n",
    "    matrix = [[[] for j in range(n)] for i in range(m)]\n",
    "    \n",
    "    #atribuindo 0 de 0 a n na primeira linha da matriz\n",
    "    matrix[0] = [0 for j in range(n)]\n",
    "    \n",
    "    #atribuindo 0 de 1 a n na primeira coluna da matriz\n",
    "    for i in range(1,m):\n",
    "        matrix[i][0] = 0 \n",
    "    \n",
    "    s = 0\n",
    "    \n",
    "    for i in range(1,m):\n",
    "        for j in range(1,n):\n",
    "            if cadeiax[i] == cadeiay[j]:\n",
    "                s = 1\n",
    "            else:\n",
    "                s = -1\n",
    "            \n",
    "            matrix[i][j] = max(0,matrix[i-1][j-1]+s,matrix[i][j-1]-1,matrix[i-1][j]-1)\n",
    "    return matrix\n",
    "    "
   ]
  },
  {
   "cell_type": "code",
   "execution_count": 11,
   "metadata": {
    "collapsed": false
   },
   "outputs": [
    {
     "data": {
      "text/plain": [
       "[[0, 0, 0, 0, 0, 0, 0],\n",
       " [0, 1, 0, 0, 1, 0, 0],\n",
       " [0, 0, 2, 1, 0, 2, 1],\n",
       " [0, 0, 1, 1, 0, 1, 3],\n",
       " [0, 1, 0, 0, 2, 1, 2],\n",
       " [0, 0, 2, 1, 1, 3, 2]]"
      ]
     },
     "execution_count": 11,
     "metadata": {},
     "output_type": "execute_result"
    }
   ],
   "source": [
    "Waterman(\"atcat\",\"attatc\")"
   ]
  },
  {
   "cell_type": "code",
   "execution_count": 14,
   "metadata": {
    "collapsed": false
   },
   "outputs": [
    {
     "data": {
      "text/plain": [
       "[[0, 0, 0, 0, 0], [0, 1, 1, 0, 0], [0, 0, 0, 2, 1], [0, 0, 0, 1, 3]]"
      ]
     },
     "execution_count": 14,
     "metadata": {},
     "output_type": "execute_result"
    }
   ],
   "source": [
    "Waterman(\"GAT\",\"GGAT\")"
   ]
  },
  {
   "cell_type": "code",
   "execution_count": 15,
   "metadata": {
    "collapsed": false
   },
   "outputs": [
    {
     "data": {
      "text/plain": [
       "[[0, 0, 0, 0, 0, 0, 0],\n",
       " [0, 1, 0, 0, 1, 0, 0],\n",
       " [0, 0, 2, 1, 0, 2, 1],\n",
       " [0, 0, 1, 1, 0, 1, 3],\n",
       " [0, 1, 0, 0, 2, 1, 2],\n",
       " [0, 0, 2, 1, 1, 3, 2]]"
      ]
     },
     "execution_count": 15,
     "metadata": {},
     "output_type": "execute_result"
    }
   ],
   "source": [
    "Waterman(\"atcat\",\"attatc\")"
   ]
  },
  {
   "cell_type": "code",
   "execution_count": null,
   "metadata": {
    "collapsed": true
   },
   "outputs": [],
   "source": []
  }
 ],
 "metadata": {
  "kernelspec": {
   "display_name": "Python [Root]",
   "language": "python",
   "name": "Python [Root]"
  },
  "language_info": {
   "codemirror_mode": {
    "name": "ipython",
    "version": 3
   },
   "file_extension": ".py",
   "mimetype": "text/x-python",
   "name": "python",
   "nbconvert_exporter": "python",
   "pygments_lexer": "ipython3",
   "version": "3.5.2"
  }
 },
 "nbformat": 4,
 "nbformat_minor": 2
}
