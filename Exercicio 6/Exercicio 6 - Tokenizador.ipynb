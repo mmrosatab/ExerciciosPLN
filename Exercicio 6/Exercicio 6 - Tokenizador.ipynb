{
 "cells": [
  {
   "cell_type": "code",
   "execution_count": 3,
   "metadata": {
    "collapsed": false
   },
   "outputs": [],
   "source": [
    "from nltk.tokenize import sent_tokenize, word_tokenize"
   ]
  },
  {
   "cell_type": "code",
   "execution_count": 4,
   "metadata": {
    "collapsed": true
   },
   "outputs": [],
   "source": [
    "# Abrindo o arquivo para leitura\n",
    "arq1 = open(\"entrada.txt\", \"r\")\n",
    "# Lendo o arquivo\n",
    "texto = arq1.read()"
   ]
  },
  {
   "cell_type": "code",
   "execution_count": 5,
   "metadata": {
    "collapsed": false
   },
   "outputs": [
    {
     "data": {
      "text/plain": [
       "'Você meu amigo de fé, meu irmão camarada. Sorriso e abraço festivo da minha chegada. Você que me diz as verdades com frases abertas. Amigo você é o mais certo das horas incertas.'"
      ]
     },
     "execution_count": 5,
     "metadata": {},
     "output_type": "execute_result"
    }
   ],
   "source": [
    "texto"
   ]
  },
  {
   "cell_type": "code",
   "execution_count": 6,
   "metadata": {
    "collapsed": true
   },
   "outputs": [],
   "source": [
    "frase = sent_tokenize(texto)\n",
    "palavras = word_tokenize(texto)"
   ]
  },
  {
   "cell_type": "code",
   "execution_count": 7,
   "metadata": {
    "collapsed": false
   },
   "outputs": [
    {
     "data": {
      "text/plain": [
       "['Você',\n",
       " 'meu',\n",
       " 'amigo',\n",
       " 'de',\n",
       " 'fé',\n",
       " ',',\n",
       " 'meu',\n",
       " 'irmão',\n",
       " 'camarada',\n",
       " '.',\n",
       " 'Sorriso',\n",
       " 'e',\n",
       " 'abraço',\n",
       " 'festivo',\n",
       " 'da',\n",
       " 'minha',\n",
       " 'chegada',\n",
       " '.',\n",
       " 'Você',\n",
       " 'que',\n",
       " 'me',\n",
       " 'diz',\n",
       " 'as',\n",
       " 'verdades',\n",
       " 'com',\n",
       " 'frases',\n",
       " 'abertas',\n",
       " '.',\n",
       " 'Amigo',\n",
       " 'você',\n",
       " 'é',\n",
       " 'o',\n",
       " 'mais',\n",
       " 'certo',\n",
       " 'das',\n",
       " 'horas',\n",
       " 'incertas',\n",
       " '.']"
      ]
     },
     "execution_count": 7,
     "metadata": {},
     "output_type": "execute_result"
    }
   ],
   "source": [
    "palavras"
   ]
  },
  {
   "cell_type": "code",
   "execution_count": 8,
   "metadata": {
    "collapsed": true
   },
   "outputs": [],
   "source": [
    "arquivo = open('saida.txt', 'w')\n",
    "for i in palavras:  \n",
    "    arquivo.writelines(i)\n",
    "    arquivo.writelines('\\n')\n",
    "arquivo.close()"
   ]
  },
  {
   "cell_type": "code",
   "execution_count": null,
   "metadata": {
    "collapsed": true
   },
   "outputs": [],
   "source": []
  }
 ],
 "metadata": {
  "kernelspec": {
   "display_name": "Python 3",
   "language": "python",
   "name": "python3"
  },
  "language_info": {
   "codemirror_mode": {
    "name": "ipython",
    "version": 3
   },
   "file_extension": ".py",
   "mimetype": "text/x-python",
   "name": "python",
   "nbconvert_exporter": "python",
   "pygments_lexer": "ipython3",
   "version": "3.6.0"
  }
 },
 "nbformat": 4,
 "nbformat_minor": 2
}
