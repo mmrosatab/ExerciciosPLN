{
 "cells": [
  {
   "cell_type": "raw",
   "metadata": {},
   "source": [
    "# Implemente em python o algoritmo Needleman Wunsch para alinhamento de cadeias. Faça em jupyter e coloque exemplos de cadeias como experimentos e seus resultados."
   ]
  },
  {
   "cell_type": "code",
   "execution_count": 14,
   "metadata": {
    "collapsed": true
   },
   "outputs": [],
   "source": [
    "def Waterman(x , y):\n",
    "    \n",
    "    #concatena cerquilha as duas strings\n",
    "    cadeiax = \"#\" + x \n",
    "    cadeiay = \"#\" + y\n",
    "    \n",
    "    m = len(cadeiax)\n",
    "    n = len(cadeiay)\n",
    "    \n",
    "    #criando matriz de tamanho m linhas e n colunas\n",
    "    matrix = [[[] for j in range(n)] for i in range(m)]\n",
    "    \n",
    "    #atribuindo 0 de 0 a n na primeira linha da matriz\n",
    "    matrix[0] = [0 for j in range(n)]\n",
    "    \n",
    "    #atribuindo 0 de 1 a n na primeira coluna da matriz\n",
    "    for i in range(1,m):\n",
    "        matrix[i][0] = 0 \n",
    "    \n",
    "    m = 0\n",
    "    \n",
    "    for i in range(1,m):\n",
    "        for j in range(1,n):\n",
    "            \n",
    "            if cadeiax[i] == cadeiay[j]:\n",
    "                m = 1\n",
    "                \n",
    "            else:\n",
    "                m = -1\n",
    "            print(\"entrei\")    \n",
    "            matrix[i][j] = max(0,matrix[i-1][j-1] + m,matrix[i-1][j] - 1,matrix[i][j-1] - 1)\n",
    "    \n",
    "    \n",
    "    print(matrix)"
   ]
  },
  {
   "cell_type": "code",
   "execution_count": 15,
   "metadata": {
    "collapsed": false
   },
   "outputs": [
    {
     "name": "stdout",
     "output_type": "stream",
     "text": [
      "[[0, 0, 0, 0, 0, 0], [0, [], [], [], [], []], [0, [], [], [], [], []], [0, [], [], [], [], []], [0, [], [], [], [], []], [0, [], [], [], [], []], [0, [], [], [], [], []]]\n"
     ]
    }
   ],
   "source": [
    "Waterman(\"ATTATC\",\"ATCAT\")"
   ]
  },
  {
   "cell_type": "code",
   "execution_count": null,
   "metadata": {
    "collapsed": true
   },
   "outputs": [],
   "source": []
  }
 ],
 "metadata": {
  "kernelspec": {
   "display_name": "Python 3",
   "language": "python",
   "name": "python3"
  },
  "language_info": {
   "codemirror_mode": {
    "name": "ipython",
    "version": 3
   },
   "file_extension": ".py",
   "mimetype": "text/x-python",
   "name": "python",
   "nbconvert_exporter": "python",
   "pygments_lexer": "ipython3",
   "version": "3.6.0"
  }
 },
 "nbformat": 4,
 "nbformat_minor": 2
}
