{
 "cells": [
  {
   "cell_type": "markdown",
   "metadata": {},
   "source": [
    "# Exercícios - Distância de Edição\n",
    "\n",
    "Implemente um script em python que calcula a distância de edição de Levenshtein e também mostre, além do custo, a sequência de operaćões de edićão.\n",
    "\n",
    "O programa deve receber via entrada padrão duas cadeias de caracteres e deve retornar a distância de edição.\n",
    "\n"
   ]
  },
  {
   "cell_type": "code",
   "execution_count": 1,
   "metadata": {},
   "outputs": [
    {
     "name": "stdout",
     "output_type": "stream",
     "text": [
      "Digite a 1° cadeia:#intention\n"
     ]
    }
   ],
   "source": [
    "cadeiax = \"#\" + input(\"Digite a 1° cadeia:\")"
   ]
  },
  {
   "cell_type": "code",
   "execution_count": 4,
   "metadata": {},
   "outputs": [
    {
     "name": "stdout",
     "output_type": "stream",
     "text": [
      "Digite a 2° cadeia:#execution\n"
     ]
    }
   ],
   "source": [
    "cadeiay = \"#\" + input(\"Digite a 2° cadeia:\")"
   ]
  },
  {
   "cell_type": "code",
   "execution_count": 5,
   "metadata": {},
   "outputs": [
    {
     "name": "stdout",
     "output_type": "stream",
     "text": [
      "#intention\n",
      "#execution\n"
     ]
    }
   ],
   "source": [
    "print(cadeiax)\n",
    "print(cadeiay)"
   ]
  },
  {
   "cell_type": "code",
   "execution_count": 6,
   "metadata": {},
   "outputs": [],
   "source": [
    "m = len(cadeiax)\n",
    "n = len(cadeiay)\n",
    "\n",
    "matrix = [[[] for j in range(n)] for i in range(m)]"
   ]
  },
  {
   "cell_type": "code",
   "execution_count": 7,
   "metadata": {},
   "outputs": [
    {
     "data": {
      "text/plain": [
       "[[[], [], [], [], [], [], [], [], [], []],\n",
       " [[], [], [], [], [], [], [], [], [], []],\n",
       " [[], [], [], [], [], [], [], [], [], []],\n",
       " [[], [], [], [], [], [], [], [], [], []],\n",
       " [[], [], [], [], [], [], [], [], [], []],\n",
       " [[], [], [], [], [], [], [], [], [], []],\n",
       " [[], [], [], [], [], [], [], [], [], []],\n",
       " [[], [], [], [], [], [], [], [], [], []],\n",
       " [[], [], [], [], [], [], [], [], [], []],\n",
       " [[], [], [], [], [], [], [], [], [], []]]"
      ]
     },
     "execution_count": 7,
     "metadata": {},
     "output_type": "execute_result"
    }
   ],
   "source": [
    "matrix"
   ]
  },
  {
   "cell_type": "code",
   "execution_count": 8,
   "metadata": {},
   "outputs": [
    {
     "data": {
      "text/plain": [
       "[[0, 1, 2, 3, 4, 5, 6, 7, 8, 9],\n",
       " [1, [], [], [], [], [], [], [], [], []],\n",
       " [2, [], [], [], [], [], [], [], [], []],\n",
       " [3, [], [], [], [], [], [], [], [], []],\n",
       " [4, [], [], [], [], [], [], [], [], []],\n",
       " [5, [], [], [], [], [], [], [], [], []],\n",
       " [6, [], [], [], [], [], [], [], [], []],\n",
       " [7, [], [], [], [], [], [], [], [], []],\n",
       " [8, [], [], [], [], [], [], [], [], []],\n",
       " [9, [], [], [], [], [], [], [], [], []]]"
      ]
     },
     "execution_count": 8,
     "metadata": {},
     "output_type": "execute_result"
    }
   ],
   "source": [
    "matrix[0] = [j for j in range(n)]\n",
    "\n",
    "for i in range(1,m):\n",
    "    matrix[i][0] = i \n",
    "    \n",
    "matrix"
   ]
  },
  {
   "cell_type": "code",
   "execution_count": 9,
   "metadata": {},
   "outputs": [],
   "source": [
    "for i in range(1,m):\n",
    "    for j in range(1,n):\n",
    "        \"\"\"\n",
    "        print(\"i: \",i)\n",
    "        print(\"j: \",j)\n",
    "        \n",
    "        print(\"caracter cadeiax[i]: \",cadeiax[i])\n",
    "        print(\"caracter cadeiay[j]: \",cadeiay[j])\n",
    "        \"\"\"\n",
    "        \n",
    "        if cadeiax[i] == cadeiay[j]:\n",
    "            matrix[i][j] = matrix[i-1][j-1]\n",
    "        else:\n",
    "            matrix[i][j] = min(matrix[i-1][j-1] + 2,matrix[i-1][j] + 1,matrix[i][j-1] + 1)\n",
    "        \n",
    "        \n",
    "   "
   ]
  },
  {
   "cell_type": "code",
   "execution_count": 10,
   "metadata": {},
   "outputs": [
    {
     "data": {
      "text/plain": [
       "[[0, 1, 2, 3, 4, 5, 6, 7, 8, 9],\n",
       " [1, 2, 3, 4, 5, 6, 7, 6, 7, 8],\n",
       " [2, 3, 4, 5, 6, 7, 8, 7, 8, 7],\n",
       " [3, 4, 5, 6, 7, 8, 7, 8, 9, 8],\n",
       " [4, 3, 4, 5, 6, 7, 8, 9, 10, 9],\n",
       " [5, 4, 5, 6, 7, 8, 9, 10, 11, 10],\n",
       " [6, 5, 6, 7, 8, 9, 8, 9, 10, 11],\n",
       " [7, 6, 7, 8, 9, 10, 9, 8, 9, 10],\n",
       " [8, 7, 8, 9, 10, 11, 10, 9, 8, 9],\n",
       " [9, 8, 9, 10, 11, 12, 11, 10, 9, 8]]"
      ]
     },
     "execution_count": 10,
     "metadata": {},
     "output_type": "execute_result"
    }
   ],
   "source": [
    "matrix"
   ]
  },
  {
   "cell_type": "code",
   "execution_count": null,
   "metadata": {
    "collapsed": true
   },
   "outputs": [],
   "source": []
  }
 ],
 "metadata": {
  "kernelspec": {
   "display_name": "Python 3",
   "language": "python",
   "name": "python3"
  },
  "language_info": {
   "codemirror_mode": {
    "name": "ipython",
    "version": 3
   },
   "file_extension": ".py",
   "mimetype": "text/x-python",
   "name": "python",
   "nbconvert_exporter": "python",
   "pygments_lexer": "ipython3",
   "version": "3.6.1"
  }
 },
 "nbformat": 4,
 "nbformat_minor": 2
}
