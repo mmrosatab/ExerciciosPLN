{
 "cells": [
  {
   "cell_type": "code",
   "execution_count": 40,
   "metadata": {
    "collapsed": false
   },
   "outputs": [
    {
     "name": "stdout",
     "output_type": "stream",
     "text": [
      "[nltk_data] Downloading package rslp to /home/mmrosa/nltk_data...\n",
      "[nltk_data]   Package rslp is already up-to-date!\n"
     ]
    },
    {
     "data": {
      "text/plain": [
       "True"
      ]
     },
     "execution_count": 40,
     "metadata": {},
     "output_type": "execute_result"
    }
   ],
   "source": [
    "from nltk.stem import RSLPStemmer\n",
    "\n",
    "#descomente a linha abaixo caso não tenha o rslp baixado\n",
    "#nltk.download('rslp')"
   ]
  },
  {
   "cell_type": "code",
   "execution_count": 47,
   "metadata": {
    "collapsed": true
   },
   "outputs": [],
   "source": [
    "# Abrindo o arquivo para leitura\n",
    "arq1 = open(\"entrada.txt\", \"r\")\n",
    "# Lendo o arquivo\n",
    "texto = arq1.read()"
   ]
  },
  {
   "cell_type": "code",
   "execution_count": 48,
   "metadata": {
    "collapsed": false
   },
   "outputs": [
    {
     "name": "stdout",
     "output_type": "stream",
     "text": [
      "escola menino menina meninão escolas escova escoteiro escorrego esconderijo passagem passageiro passador passarinho passeio\n"
     ]
    }
   ],
   "source": [
    "#imprimindo conteudo do arquivo\n",
    "print(texto)"
   ]
  },
  {
   "cell_type": "code",
   "execution_count": 50,
   "metadata": {
    "collapsed": false
   },
   "outputs": [],
   "source": [
    "st = nltk.stem.RSLPStemmer()"
   ]
  },
  {
   "cell_type": "code",
   "execution_count": 53,
   "metadata": {
    "collapsed": false
   },
   "outputs": [],
   "source": [
    "linhas = []\n",
    "\n",
    "for token in texto.split():\n",
    "    #print(st.stem(token))\n",
    "    linhas.append(st.stem(token))"
   ]
  },
  {
   "cell_type": "code",
   "execution_count": 55,
   "metadata": {
    "collapsed": false
   },
   "outputs": [
    {
     "data": {
      "text/plain": [
       "['escol',\n",
       " 'menin',\n",
       " 'menin',\n",
       " 'menin',\n",
       " 'escol',\n",
       " 'escov',\n",
       " 'escot',\n",
       " 'escorreg',\n",
       " 'esconderij',\n",
       " 'pass',\n",
       " 'passag',\n",
       " 'pass',\n",
       " 'pass',\n",
       " 'passei']"
      ]
     },
     "execution_count": 55,
     "metadata": {},
     "output_type": "execute_result"
    }
   ],
   "source": [
    "linhas"
   ]
  },
  {
   "cell_type": "code",
   "execution_count": 54,
   "metadata": {
    "collapsed": true
   },
   "outputs": [],
   "source": [
    "arquivo = open('saida.txt', 'w')\n",
    "for i in linhas:  \n",
    "    arquivo.writelines(i)\n",
    "    arquivo.writelines('\\n')\n",
    "arquivo.close()"
   ]
  },
  {
   "cell_type": "code",
   "execution_count": null,
   "metadata": {
    "collapsed": true
   },
   "outputs": [],
   "source": []
  }
 ],
 "metadata": {
  "kernelspec": {
   "display_name": "Python 3",
   "language": "python",
   "name": "python3"
  },
  "language_info": {
   "codemirror_mode": {
    "name": "ipython",
    "version": 3
   },
   "file_extension": ".py",
   "mimetype": "text/x-python",
   "name": "python",
   "nbconvert_exporter": "python",
   "pygments_lexer": "ipython3",
   "version": "3.6.0"
  }
 },
 "nbformat": 4,
 "nbformat_minor": 2
}
